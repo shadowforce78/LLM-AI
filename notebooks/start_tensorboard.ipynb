{
 "cells": [
  {
   "cell_type": "code",
   "execution_count": null,
   "metadata": {},
   "outputs": [
    {
     "name": "stdout",
     "output_type": "stream",
     "text": [
      "Starting TensorBoard...\n",
      "Press Ctrl+C to stop.\n",
      "Open http://localhost:6007/?darkMode=true in your browser to view the TensorBoard\n"
     ]
    }
   ],
   "source": [
    "import os\n",
    "import subprocess\n",
    "\n",
    "# Path to the log directory\n",
    "log_dir = r\"C:\\\\Users\\\\saumondeluxe\\\\Desktop\\\\DevProject\\\\LLM-AI\\\\logs\"\n",
    "\n",
    "# Execute TensorBoard\n",
    "print(\"Starting TensorBoard...\")\n",
    "print(\"Press Ctrl+C to stop.\")  \n",
    "print(\"Open http://localhost:6007/?darkMode=true in your browser to view the TensorBoard\")\n",
    "subprocess.run([\"tensorboard\", \"--logdir\", log_dir])\n",
    "\n",
    "# Alternatively, you can use os.system\n",
    "# os.system(f\"tensorboard --logdir={log_dir}\")\n",
    "\n",
    "print(f\"TensorBoard started with logdir: {log_dir}\")"
   ]
  }
 ],
 "metadata": {
  "kernelspec": {
   "display_name": ".venv",
   "language": "python",
   "name": "python3"
  },
  "language_info": {
   "codemirror_mode": {
    "name": "ipython",
    "version": 3
   },
   "file_extension": ".py",
   "mimetype": "text/x-python",
   "name": "python",
   "nbconvert_exporter": "python",
   "pygments_lexer": "ipython3",
   "version": "3.10.6"
  }
 },
 "nbformat": 4,
 "nbformat_minor": 2
}
